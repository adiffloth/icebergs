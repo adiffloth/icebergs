{
 "cells": [
  {
   "cell_type": "markdown",
   "metadata": {},
   "source": [
    "## Iceberg vs Ships\n",
    "---\n",
    "#### Versions\n",
    "- v1: baseline, 0.29665 Public\n",
    "- v2: Transfer learning. Not good.\n",
    "- v3.0: k-fold, early stopping, callbacks\n",
    "- v3.1: Tensorboard\n",
    "- v4.0: Data augmentation\n",
    "- v4.1: Denoising\n",
    "- v4.2: MinMaxScaler\n",
    "- v4.3: Revisit transfer learning\n",
    "- v4.4: Final\n",
    "---"
   ]
  },
  {
   "cell_type": "markdown",
   "metadata": {},
   "source": [
    "### Imports and data loading"
   ]
  },
  {
   "cell_type": "code",
   "execution_count": 1,
   "metadata": {},
   "outputs": [],
   "source": [
    "# Set env vars for TF. Do this before importing TF.\n",
    "import os\n",
    "os.environ[\"CUDA_VISIBLE_DEVICES\"] = '1' # Bind to a specific GPU\n",
    "os.environ['TF_CPP_MIN_LOG_LEVEL'] = '3' # Set TF logging level. 0 is default, 3 is nothing."
   ]
  },
  {
   "cell_type": "code",
   "execution_count": 2,
   "metadata": {},
   "outputs": [],
   "source": [
    "import datetime\n",
    "import pandas as pd\n",
    "import numpy as np\n",
    "import matplotlib.pyplot as plt\n",
    "import seaborn as sns\n",
    "from scipy.ndimage import convolve, uniform_filter, median_filter,  percentile_filter\n",
    "from sklearn.model_selection import train_test_split, StratifiedKFold\n",
    "from sklearn.preprocessing import MinMaxScaler\n",
    "from sklearn.metrics import classification_report, roc_curve, auc, confusion_matrix\n",
    "\n",
    "import tensorflow as tf\n",
    "from tensorflow import keras\n",
    "from tensorflow.keras.preprocessing.image import ImageDataGenerator\n",
    "from tensorflow.keras.models import Sequential\n",
    "from tensorflow.keras.layers import Conv2D, MaxPooling2D, Dense, Dropout, Input, Flatten, Activation\n",
    "from tensorflow.keras.layers import GlobalMaxPooling2D\n",
    "from tensorflow.keras.layers import BatchNormalization\n",
    "from tensorflow.keras.layers import Concatenate\n",
    "from tensorflow.keras.models import Model, load_model\n",
    "from tensorflow.keras import applications\n",
    "from tensorflow.keras import initializers\n",
    "from tensorflow.keras.optimizers import Adam\n",
    "from tensorflow.keras.callbacks import ModelCheckpoint, Callback, EarlyStopping"
   ]
  },
  {
   "cell_type": "code",
   "execution_count": 3,
   "metadata": {},
   "outputs": [],
   "source": [
    "# Generate confusion matrix plot\n",
    "# matplotlib 3.1.1 has a bug, downgrade to 3.1.0\n",
    "def plot_cm(actual, pred):\n",
    "    cm_df = pd.DataFrame(confusion_matrix(actual, pred))\n",
    "    cm_df.index.name = 'Actual'\n",
    "    cm_df.columns.name = 'Predicted'\n",
    "    sns.set(font_scale=2)\n",
    "    fig, ax = plt.subplots(figsize=(8,8))\n",
    "    sns.heatmap(cm_df, \n",
    "                annot=True, \n",
    "                annot_kws={'size': 24},\n",
    "                fmt='d', \n",
    "                cbar=False,\n",
    "                cmap='Blues', \n",
    "                ax=ax);"
   ]
  },
  {
   "cell_type": "code",
   "execution_count": 4,
   "metadata": {},
   "outputs": [
    {
     "data": {
      "text/html": [
       "<div>\n",
       "<style scoped>\n",
       "    .dataframe tbody tr th:only-of-type {\n",
       "        vertical-align: middle;\n",
       "    }\n",
       "\n",
       "    .dataframe tbody tr th {\n",
       "        vertical-align: top;\n",
       "    }\n",
       "\n",
       "    .dataframe thead th {\n",
       "        text-align: right;\n",
       "    }\n",
       "</style>\n",
       "<table border=\"1\" class=\"dataframe\">\n",
       "  <thead>\n",
       "    <tr style=\"text-align: right;\">\n",
       "      <th></th>\n",
       "      <th>id</th>\n",
       "      <th>band_1</th>\n",
       "      <th>band_2</th>\n",
       "      <th>inc_angle</th>\n",
       "      <th>is_iceberg</th>\n",
       "    </tr>\n",
       "  </thead>\n",
       "  <tbody>\n",
       "    <tr>\n",
       "      <th>0</th>\n",
       "      <td>dfd5f913</td>\n",
       "      <td>[-27.878360999999998, -27.15416, -28.668615, -...</td>\n",
       "      <td>[-27.154118, -29.537888, -31.0306, -32.190483,...</td>\n",
       "      <td>43.9239</td>\n",
       "      <td>0</td>\n",
       "    </tr>\n",
       "    <tr>\n",
       "      <th>1</th>\n",
       "      <td>e25388fd</td>\n",
       "      <td>[-12.242375, -14.920304999999999, -14.920363, ...</td>\n",
       "      <td>[-31.506321, -27.984554, -26.645678, -23.76760...</td>\n",
       "      <td>38.1562</td>\n",
       "      <td>0</td>\n",
       "    </tr>\n",
       "    <tr>\n",
       "      <th>2</th>\n",
       "      <td>58b2aaa0</td>\n",
       "      <td>[-24.603676, -24.603714, -24.871029, -23.15277...</td>\n",
       "      <td>[-24.870956, -24.092632, -20.653963, -19.41104...</td>\n",
       "      <td>45.2859</td>\n",
       "      <td>1</td>\n",
       "    </tr>\n",
       "    <tr>\n",
       "      <th>3</th>\n",
       "      <td>4cfc3a18</td>\n",
       "      <td>[-22.454607, -23.082819, -23.998013, -23.99805...</td>\n",
       "      <td>[-27.889421, -27.519794, -27.165262, -29.10350...</td>\n",
       "      <td>43.8306</td>\n",
       "      <td>0</td>\n",
       "    </tr>\n",
       "    <tr>\n",
       "      <th>4</th>\n",
       "      <td>271f93f4</td>\n",
       "      <td>[-26.006956, -23.164886, -23.164886, -26.89116...</td>\n",
       "      <td>[-27.206915, -30.259186, -30.259186, -23.16495...</td>\n",
       "      <td>35.6256</td>\n",
       "      <td>0</td>\n",
       "    </tr>\n",
       "    <tr>\n",
       "      <th>...</th>\n",
       "      <td>...</td>\n",
       "      <td>...</td>\n",
       "      <td>...</td>\n",
       "      <td>...</td>\n",
       "      <td>...</td>\n",
       "    </tr>\n",
       "    <tr>\n",
       "      <th>1599</th>\n",
       "      <td>04e11240</td>\n",
       "      <td>[-30.999878, -29.976866, -28.233906, -29.50732...</td>\n",
       "      <td>[-27.847719, -28.233864, -24.712077999999998, ...</td>\n",
       "      <td>na</td>\n",
       "      <td>0</td>\n",
       "    </tr>\n",
       "    <tr>\n",
       "      <th>1600</th>\n",
       "      <td>c7d6f6f8</td>\n",
       "      <td>[-25.31155, -26.511555, -28.694487, -27.180115...</td>\n",
       "      <td>[-29.563713, -28.290375, -26.839405, -28.29046...</td>\n",
       "      <td>na</td>\n",
       "      <td>0</td>\n",
       "    </tr>\n",
       "    <tr>\n",
       "      <th>1601</th>\n",
       "      <td>bba1a0f1</td>\n",
       "      <td>[-18.141895, -18.141844, -19.01737, -19.701599...</td>\n",
       "      <td>[-25.305355, -29.387701, -28.963863, -26.16023...</td>\n",
       "      <td>na</td>\n",
       "      <td>0</td>\n",
       "    </tr>\n",
       "    <tr>\n",
       "      <th>1602</th>\n",
       "      <td>7f66bb44</td>\n",
       "      <td>[-22.455633, -25.794661, -26.954567, -22.83354...</td>\n",
       "      <td>[-26.070356, -22.093737, -21.577662, -24.53376...</td>\n",
       "      <td>na</td>\n",
       "      <td>0</td>\n",
       "    </tr>\n",
       "    <tr>\n",
       "      <th>1603</th>\n",
       "      <td>9d8f326c</td>\n",
       "      <td>[-19.909191, -20.678406, -20.208834, -18.42441...</td>\n",
       "      <td>[-24.44487, -24.956001, -27.722103, -26.078417...</td>\n",
       "      <td>na</td>\n",
       "      <td>0</td>\n",
       "    </tr>\n",
       "  </tbody>\n",
       "</table>\n",
       "<p>1604 rows × 5 columns</p>\n",
       "</div>"
      ],
      "text/plain": [
       "            id                                             band_1  \\\n",
       "0     dfd5f913  [-27.878360999999998, -27.15416, -28.668615, -...   \n",
       "1     e25388fd  [-12.242375, -14.920304999999999, -14.920363, ...   \n",
       "2     58b2aaa0  [-24.603676, -24.603714, -24.871029, -23.15277...   \n",
       "3     4cfc3a18  [-22.454607, -23.082819, -23.998013, -23.99805...   \n",
       "4     271f93f4  [-26.006956, -23.164886, -23.164886, -26.89116...   \n",
       "...        ...                                                ...   \n",
       "1599  04e11240  [-30.999878, -29.976866, -28.233906, -29.50732...   \n",
       "1600  c7d6f6f8  [-25.31155, -26.511555, -28.694487, -27.180115...   \n",
       "1601  bba1a0f1  [-18.141895, -18.141844, -19.01737, -19.701599...   \n",
       "1602  7f66bb44  [-22.455633, -25.794661, -26.954567, -22.83354...   \n",
       "1603  9d8f326c  [-19.909191, -20.678406, -20.208834, -18.42441...   \n",
       "\n",
       "                                                 band_2 inc_angle  is_iceberg  \n",
       "0     [-27.154118, -29.537888, -31.0306, -32.190483,...   43.9239           0  \n",
       "1     [-31.506321, -27.984554, -26.645678, -23.76760...   38.1562           0  \n",
       "2     [-24.870956, -24.092632, -20.653963, -19.41104...   45.2859           1  \n",
       "3     [-27.889421, -27.519794, -27.165262, -29.10350...   43.8306           0  \n",
       "4     [-27.206915, -30.259186, -30.259186, -23.16495...   35.6256           0  \n",
       "...                                                 ...       ...         ...  \n",
       "1599  [-27.847719, -28.233864, -24.712077999999998, ...        na           0  \n",
       "1600  [-29.563713, -28.290375, -26.839405, -28.29046...        na           0  \n",
       "1601  [-25.305355, -29.387701, -28.963863, -26.16023...        na           0  \n",
       "1602  [-26.070356, -22.093737, -21.577662, -24.53376...        na           0  \n",
       "1603  [-24.44487, -24.956001, -27.722103, -26.078417...        na           0  \n",
       "\n",
       "[1604 rows x 5 columns]"
      ]
     },
     "execution_count": 4,
     "metadata": {},
     "output_type": "execute_result"
    }
   ],
   "source": [
    "# Load the data\n",
    "train_df = pd.read_json('data/train.json')\n",
    "test_df = pd.read_json('data/test.json')\n",
    "train_df"
   ]
  },
  {
   "cell_type": "code",
   "execution_count": 5,
   "metadata": {},
   "outputs": [],
   "source": [
    "# Scale band_1 and band_2. Since band 3 is derived from these, it will be scaled automatically.\n",
    "scaler = MinMaxScaler()\n",
    "for df in [train_df, test_df]:\n",
    "    df['band_1_scaled'] = df['band_1'].apply(lambda x: scaler.fit_transform(np.array(x).reshape(-1,1)))\n",
    "    df['band_2_scaled'] = df['band_2'].apply(lambda x: scaler.fit_transform(np.array(x).reshape(-1,1)))"
   ]
  },
  {
   "cell_type": "code",
   "execution_count": 6,
   "metadata": {},
   "outputs": [],
   "source": [
    "# Create new features by passing band_1 and band_2 through a median filter\n",
    "for df in [train_df, test_df]:\n",
    "    df['band_1_median'] = df['band_1_scaled'].apply(lambda x: median_filter(np.array(x).reshape(75,75), size=(6,6)))\n",
    "    df['band_2_median'] = df['band_2_scaled'].apply(lambda x: median_filter(np.array(x).reshape(75,75), size=(6,6)))"
   ]
  },
  {
   "cell_type": "code",
   "execution_count": 7,
   "metadata": {},
   "outputs": [
    {
     "name": "stdout",
     "output_type": "stream",
     "text": [
      "(1604, 75, 75, 3)\n",
      "(8424, 75, 75, 3)\n"
     ]
    }
   ],
   "source": [
    "# Create 4d array of images - indep var.\n",
    "# Channel 1 is HH, channel 2 is HV, channel 3 is a product of both.\n",
    "# https://earth.esa.int/c/document_library/get_file?folderId=409229&name=DLFE-5566.pdf\n",
    "def create_4d_array(df):\n",
    "    band_1_arr = np.array([np.array(band_1).reshape(75, 75) for band_1 in df['band_1_scaled']]).reshape(-1, 75, 75, 1)\n",
    "    band_2_arr = np.array([np.array(band_2).reshape(75, 75) for band_2 in df['band_2_scaled']]).reshape(-1, 75, 75, 1)\n",
    "    band_3_arr = (band_1_arr + band_2_arr)/2\n",
    "#     band_3_arr = band_1_arr * band_2_arr # Try multiplying these again.\n",
    "    return np.concatenate([band_1_arr, band_2_arr, band_3_arr], axis=3)\n",
    "\n",
    "X_train_all = create_4d_array(train_df)\n",
    "X_test = create_4d_array(test_df)\n",
    "\n",
    "print(X_train_all.shape)\n",
    "print(X_test.shape)\n",
    "assert X_train_all.shape[0] == train_df.shape[0]\n",
    "assert X_test.shape[0] == test_df.shape[0]"
   ]
  },
  {
   "cell_type": "code",
   "execution_count": 8,
   "metadata": {},
   "outputs": [
    {
     "name": "stdout",
     "output_type": "stream",
     "text": [
      "(1604,)\n"
     ]
    }
   ],
   "source": [
    "# Create training dep var\n",
    "y_train_all = train_df['is_iceberg']\n",
    "\n",
    "print(y_train_all.shape)\n",
    "assert y_train_all.shape[0] == train_df.shape[0]"
   ]
  },
  {
   "cell_type": "markdown",
   "metadata": {},
   "source": [
    "---\n",
    "### Development and tuning"
   ]
  },
  {
   "cell_type": "code",
   "execution_count": 9,
   "metadata": {},
   "outputs": [],
   "source": [
    "# Define the CNN\n",
    "def get_model():\n",
    "    model = Sequential()\n",
    "\n",
    "    model.add(Conv2D(64, kernel_size=(3, 3),activation='relu', input_shape=(75, 75, 3)))\n",
    "    model.add(MaxPooling2D(pool_size=(3, 3), strides=(2, 2)))\n",
    "    model.add(Dropout(0.2))\n",
    "\n",
    "    model.add(Conv2D(128, kernel_size=(3, 3), activation='relu' ))\n",
    "    model.add(MaxPooling2D(pool_size=(2, 2), strides=(2, 2)))\n",
    "    model.add(Dropout(0.2))\n",
    "\n",
    "    model.add(Conv2D(128, kernel_size=(3, 3), activation='relu'))\n",
    "    model.add(MaxPooling2D(pool_size=(2, 2), strides=(2, 2)))\n",
    "    model.add(Dropout(0.2))\n",
    "\n",
    "    model.add(Conv2D(256, kernel_size=(3, 3), activation='relu'))\n",
    "    model.add(MaxPooling2D(pool_size=(2, 2), strides=(2, 2)))\n",
    "    model.add(Dropout(0.2))\n",
    "\n",
    "    model.add(Flatten())\n",
    "    model.add(Dense(256, activation='relu'))\n",
    "    model.add(Dropout(0.2))\n",
    "\n",
    "    model.add(Dense(1, activation='sigmoid'))\n",
    "\n",
    "    return model"
   ]
  },
  {
   "cell_type": "code",
   "execution_count": 10,
   "metadata": {},
   "outputs": [],
   "source": [
    "def get_xfer_model():\n",
    "    transfer_model = applications.ResNet50(weights='imagenet', include_top=False, input_shape=(75,75,3))\n",
    "    transfer_model.trainable = False\n",
    "    # transfer_model.summary()\n",
    "    model = Sequential(transfer_model)\n",
    "\n",
    "    model.add(Flatten())\n",
    "\n",
    "    model.add(Dense(256, activation='relu'))\n",
    "    model.add(Dropout(0.2))\n",
    "\n",
    "    model.add(Dense(1, activation='sigmoid'))\n",
    "    \n",
    "    return model"
   ]
  },
  {
   "cell_type": "code",
   "execution_count": 11,
   "metadata": {},
   "outputs": [],
   "source": [
    "# Train/validation split for model tuning\n",
    "X_train, X_val, y_train, y_val = train_test_split(X_train_all, y_train_all, random_state=2020)\n",
    "y_train, y_val = np.array(y_train), np.array(y_val)"
   ]
  },
  {
   "cell_type": "code",
   "execution_count": 12,
   "metadata": {},
   "outputs": [],
   "source": [
    "# Tensorboard set up\n",
    "log_dir=\"logs/fit/\" + datetime.datetime.now().strftime(\"%Y%m%d-%H%M%S\")\n",
    "tensorboard_callback = tf.keras.callbacks.TensorBoard(log_dir=log_dir, histogram_freq=1)"
   ]
  },
  {
   "cell_type": "code",
   "execution_count": 13,
   "metadata": {},
   "outputs": [],
   "source": [
    "# Define callbacks\n",
    "callbacks = [EarlyStopping(monitor='val_loss', patience=20),\n",
    "             ModelCheckpoint(filepath='best_model.h5', monitor='val_loss', save_best_only=True, verbose=1),\n",
    "             tensorboard_callback]"
   ]
  },
  {
   "cell_type": "code",
   "execution_count": 14,
   "metadata": {},
   "outputs": [],
   "source": [
    "# Create model for tuning\n",
    "model = get_model()\n",
    "model.compile(loss='binary_crossentropy',\n",
    "              optimizer=Adam(lr=0.001, beta_1=0.9, beta_2=0.999, epsilon=1e-08, decay=0.0),\n",
    "              metrics=['accuracy'])\n",
    "# model.summary()"
   ]
  },
  {
   "cell_type": "code",
   "execution_count": 15,
   "metadata": {},
   "outputs": [],
   "source": [
    "# Create generator for data augmentation\n",
    "batch_size=64\n",
    "\n",
    "gen = ImageDataGenerator(horizontal_flip = True,\n",
    "                         vertical_flip = True,\n",
    "                         width_shift_range = 0.1,\n",
    "                         height_shift_range = 0.1,\n",
    "                         zoom_range = 0.1,\n",
    "                         rotation_range = 20\n",
    "                        )\n",
    "\n",
    "generator = gen.flow(X_train, y_train, batch_size=batch_size)"
   ]
  },
  {
   "cell_type": "code",
   "execution_count": 16,
   "metadata": {},
   "outputs": [
    {
     "name": "stdout",
     "output_type": "stream",
     "text": [
      "\n",
      "Epoch 00001: val_loss improved from inf to 0.66713, saving model to best_model.h5\n",
      "\n",
      "Epoch 00002: val_loss improved from 0.66713 to 0.56341, saving model to best_model.h5\n",
      "\n",
      "Epoch 00003: val_loss improved from 0.56341 to 0.49937, saving model to best_model.h5\n",
      "\n",
      "Epoch 00004: val_loss improved from 0.49937 to 0.47533, saving model to best_model.h5\n",
      "\n",
      "Epoch 00005: val_loss did not improve from 0.47533\n",
      "\n",
      "Epoch 00006: val_loss improved from 0.47533 to 0.39369, saving model to best_model.h5\n",
      "\n",
      "Epoch 00007: val_loss did not improve from 0.39369\n",
      "\n",
      "Epoch 00008: val_loss did not improve from 0.39369\n",
      "\n",
      "Epoch 00009: val_loss did not improve from 0.39369\n",
      "\n",
      "Epoch 00010: val_loss did not improve from 0.39369\n",
      "\n",
      "Epoch 00011: val_loss did not improve from 0.39369\n",
      "\n",
      "Epoch 00012: val_loss did not improve from 0.39369\n",
      "\n",
      "Epoch 00013: val_loss improved from 0.39369 to 0.36237, saving model to best_model.h5\n",
      "\n",
      "Epoch 00014: val_loss did not improve from 0.36237\n",
      "\n",
      "Epoch 00015: val_loss did not improve from 0.36237\n",
      "\n",
      "Epoch 00016: val_loss improved from 0.36237 to 0.34208, saving model to best_model.h5\n",
      "\n",
      "Epoch 00017: val_loss did not improve from 0.34208\n",
      "\n",
      "Epoch 00018: val_loss did not improve from 0.34208\n",
      "\n",
      "Epoch 00019: val_loss did not improve from 0.34208\n",
      "\n",
      "Epoch 00020: val_loss did not improve from 0.34208\n",
      "\n",
      "Epoch 00021: val_loss did not improve from 0.34208\n",
      "\n",
      "Epoch 00022: val_loss did not improve from 0.34208\n",
      "\n",
      "Epoch 00023: val_loss did not improve from 0.34208\n",
      "\n",
      "Epoch 00024: val_loss did not improve from 0.34208\n",
      "\n",
      "Epoch 00025: val_loss did not improve from 0.34208\n",
      "\n",
      "Epoch 00026: val_loss improved from 0.34208 to 0.32800, saving model to best_model.h5\n",
      "\n",
      "Epoch 00027: val_loss did not improve from 0.32800\n",
      "\n",
      "Epoch 00028: val_loss did not improve from 0.32800\n",
      "\n",
      "Epoch 00029: val_loss did not improve from 0.32800\n",
      "\n",
      "Epoch 00030: val_loss improved from 0.32800 to 0.32496, saving model to best_model.h5\n",
      "\n",
      "Epoch 00031: val_loss improved from 0.32496 to 0.29740, saving model to best_model.h5\n",
      "\n",
      "Epoch 00032: val_loss did not improve from 0.29740\n",
      "\n",
      "Epoch 00033: val_loss did not improve from 0.29740\n",
      "\n",
      "Epoch 00034: val_loss did not improve from 0.29740\n",
      "\n",
      "Epoch 00035: val_loss did not improve from 0.29740\n",
      "\n",
      "Epoch 00036: val_loss did not improve from 0.29740\n",
      "\n",
      "Epoch 00037: val_loss did not improve from 0.29740\n",
      "\n",
      "Epoch 00038: val_loss did not improve from 0.29740\n",
      "\n",
      "Epoch 00039: val_loss did not improve from 0.29740\n",
      "\n",
      "Epoch 00040: val_loss did not improve from 0.29740\n",
      "\n",
      "Epoch 00041: val_loss did not improve from 0.29740\n",
      "\n",
      "Epoch 00042: val_loss did not improve from 0.29740\n",
      "\n",
      "Epoch 00043: val_loss did not improve from 0.29740\n",
      "\n",
      "Epoch 00044: val_loss did not improve from 0.29740\n",
      "\n",
      "Epoch 00045: val_loss improved from 0.29740 to 0.27013, saving model to best_model.h5\n",
      "\n",
      "Epoch 00046: val_loss did not improve from 0.27013\n",
      "\n",
      "Epoch 00047: val_loss did not improve from 0.27013\n",
      "\n",
      "Epoch 00048: val_loss did not improve from 0.27013\n",
      "\n",
      "Epoch 00049: val_loss did not improve from 0.27013\n",
      "\n",
      "Epoch 00050: val_loss did not improve from 0.27013\n",
      "\n",
      "Epoch 00051: val_loss did not improve from 0.27013\n",
      "\n",
      "Epoch 00052: val_loss did not improve from 0.27013\n",
      "\n",
      "Epoch 00053: val_loss did not improve from 0.27013\n",
      "\n",
      "Epoch 00054: val_loss did not improve from 0.27013\n",
      "\n",
      "Epoch 00055: val_loss did not improve from 0.27013\n",
      "\n",
      "Epoch 00056: val_loss did not improve from 0.27013\n",
      "\n",
      "Epoch 00057: val_loss did not improve from 0.27013\n",
      "\n",
      "Epoch 00058: val_loss did not improve from 0.27013\n",
      "\n",
      "Epoch 00059: val_loss did not improve from 0.27013\n",
      "\n",
      "Epoch 00060: val_loss did not improve from 0.27013\n",
      "\n",
      "Epoch 00061: val_loss did not improve from 0.27013\n",
      "\n",
      "Epoch 00062: val_loss did not improve from 0.27013\n",
      "\n",
      "Epoch 00063: val_loss did not improve from 0.27013\n",
      "\n",
      "Epoch 00064: val_loss did not improve from 0.27013\n",
      "\n",
      "Epoch 00065: val_loss did not improve from 0.27013\n"
     ]
    },
    {
     "data": {
      "text/plain": [
       "<tensorflow.python.keras.callbacks.History at 0x7fe1200f8450>"
      ]
     },
     "execution_count": 16,
     "metadata": {},
     "output_type": "execute_result"
    }
   ],
   "source": [
    "# Fit and evaluate model\n",
    "model.fit_generator(generator,\n",
    "                    steps_per_epoch=batch_size,\n",
    "                    epochs=100,\n",
    "                    callbacks=callbacks,\n",
    "                    shuffle=True,\n",
    "                    verbose=0,\n",
    "                    validation_data=(X_val, y_val))"
   ]
  },
  {
   "cell_type": "code",
   "execution_count": 17,
   "metadata": {},
   "outputs": [
    {
     "name": "stdout",
     "output_type": "stream",
     "text": [
      "val_loss: 0.267699895802876\n",
      "val_acc: 0.90024936\n"
     ]
    }
   ],
   "source": [
    "# Evaluate the current model\n",
    "val_loss, val_acc = model.evaluate(X_val, y_val, verbose=0)\n",
    "print('val_loss:', val_loss)\n",
    "print('val_acc:', val_acc)"
   ]
  },
  {
   "cell_type": "code",
   "execution_count": 18,
   "metadata": {},
   "outputs": [
    {
     "name": "stdout",
     "output_type": "stream",
     "text": [
      "val_loss: 0.2410033605342494\n",
      "val_acc: 0.88029927\n"
     ]
    }
   ],
   "source": [
    "# Load and evaluate the best model\n",
    "model = load_model('best_model.h5')\n",
    "val_loss, val_acc = model.evaluate(X_val, y_val, verbose=0)\n",
    "print('val_loss:', val_loss)\n",
    "print('val_acc:', val_acc)"
   ]
  },
  {
   "cell_type": "markdown",
   "metadata": {},
   "source": [
    "---\n",
    "### K-fold cross-val"
   ]
  },
  {
   "cell_type": "code",
   "execution_count": null,
   "metadata": {},
   "outputs": [],
   "source": [
    "# Do k-fold CV\n",
    "k = 5 # Number of splits\n",
    "skf = StratifiedKFold(n_splits=k, random_state=2020)\n",
    "cv_scores = []\n",
    "i = 0\n",
    "for train_idx, val_idx in skf.split(X_train_all, y_train_all):\n",
    "\n",
    "    log_dir=\"logs/fit/\" + datetime.datetime.now().strftime(\"%Y%m%d-%H%M%S\")\n",
    "    tensorboard_callback = tf.keras.callbacks.TensorBoard(log_dir=log_dir, histogram_freq=1)\n",
    "    callbacks = [EarlyStopping(monitor='val_loss', patience=20),\n",
    "                 ModelCheckpoint(filepath='best_model.h5', monitor='val_loss', save_best_only=True, verbose=0),\n",
    "                 tensorboard_callback]\n",
    "    \n",
    "    model = get_model()\n",
    "    model.compile(loss='binary_crossentropy',\n",
    "              optimizer=Adam(lr=0.001, beta_1=0.9, beta_2=0.999, epsilon=1e-08, decay=0.0),\n",
    "              metrics=['accuracy'])\n",
    "    \n",
    "    X_train = X_train_all[train_idx]\n",
    "    y_train = y_train_all[train_idx]\n",
    "    X_train, y_train = np.array(X_train), np.array(y_train)\n",
    "    \n",
    "    X_val = X_train_all[val_idx]\n",
    "    y_val = y_train_all[val_idx]\n",
    "    X_val, y_val = np.array(X_val), np.array(y_val)\n",
    "    \n",
    "    batch_size=64\n",
    "    gen = ImageDataGenerator(horizontal_flip = True,\n",
    "                             vertical_flip = True,\n",
    "                             width_shift_range = 0.1,\n",
    "                             height_shift_range = 0.1,\n",
    "                             zoom_range = 0.1,\n",
    "                             rotation_range = 20\n",
    "                            )\n",
    "    generator = gen.flow(X_train, y_train, batch_size=batch_size)\n",
    "    \n",
    "    model.fit_generator(generator,\n",
    "                        steps_per_epoch=batch_size,\n",
    "                        epochs=100,\n",
    "                        callbacks=callbacks,\n",
    "                        shuffle=True,\n",
    "                        verbose=0,\n",
    "                        validation_data=(X_val, y_val))\n",
    "    \n",
    "    model = load_model('best_model.h5')\n",
    "    model.save('best_model_'+str(i)+'.h5')\n",
    "    scores = model.evaluate(X_val, y_val, verbose=0)\n",
    "    print('*** Fold done, best val_loss:', scores[0])\n",
    "    cv_scores.append(scores[0])\n",
    "    print('\\n')\n",
    "    i += 1\n",
    "print('mean score:', np.mean(cv_scores))"
   ]
  },
  {
   "cell_type": "markdown",
   "metadata": {},
   "source": [
    "---\n",
    "### Classifier metrics"
   ]
  },
  {
   "cell_type": "code",
   "execution_count": 19,
   "metadata": {},
   "outputs": [],
   "source": [
    "# Make predictions\n",
    "preds = model.predict(X_val)"
   ]
  },
  {
   "cell_type": "code",
   "execution_count": 20,
   "metadata": {},
   "outputs": [
    {
     "data": {
      "image/png": "[encoded data removed]",
      "text/plain": [
       "<Figure size 720x720 with 1 Axes>"
      ]
     },
     "metadata": {
      "needs_background": "light"
     },
     "output_type": "display_data"
    }
   ],
   "source": [
    "# Calculate stats for ROC AUC plot\n",
    "fpr_agg, tpr_agg, thresholds_agg = roc_curve(y_val, preds)\n",
    "roc_auc_agg = auc(fpr_agg, tpr_agg)\n",
    "\n",
    "# Plot ROC AUC\n",
    "plt.figure(figsize=(10,10))\n",
    "plt.plot(fpr_agg, tpr_agg, color='blue',\n",
    "         lw=2, label='ROC curve (AUC = %0.2f)' % roc_auc_agg)\n",
    "plt.plot([0, 1], [0, 1], color='grey', lw=1, linestyle='--')\n",
    "plt.xlim([0.0, 1.0])\n",
    "plt.ylim([0.0, 1.05])\n",
    "plt.xlabel('False Positive Rate', fontsize=16)\n",
    "plt.ylabel('True Positive Rate', fontsize=16)\n",
    "plt.title('AU ROC C', fontsize=18)\n",
    "plt.legend(loc=\"lower right\", fontsize=16)\n",
    "plt.show()"
   ]
  },
  {
   "cell_type": "code",
   "execution_count": 21,
   "metadata": {},
   "outputs": [
    {
     "data": {
      "text/plain": [
       "0.35415706"
      ]
     },
     "execution_count": 21,
     "metadata": {},
     "output_type": "execute_result"
    }
   ],
   "source": [
    "# Optimize threshold\n",
    "thresholds_agg[np.argmax(tpr_agg - fpr_agg)]"
   ]
  },
  {
   "cell_type": "code",
   "execution_count": 22,
   "metadata": {},
   "outputs": [],
   "source": [
    "# Threshold prediction probabilities to binary classes\n",
    "out_prob_threshold = 0.35\n",
    "preds_class = np.where(preds > out_prob_threshold, 1, 0)"
   ]
  },
  {
   "cell_type": "code",
   "execution_count": 23,
   "metadata": {},
   "outputs": [
    {
     "name": "stdout",
     "output_type": "stream",
     "text": [
      "              precision    recall  f1-score   support\n",
      "\n",
      "           0       0.95      0.88      0.91       204\n",
      "           1       0.88      0.95      0.91       197\n",
      "\n",
      "    accuracy                           0.91       401\n",
      "   macro avg       0.91      0.91      0.91       401\n",
      "weighted avg       0.92      0.91      0.91       401\n",
      "\n"
     ]
    }
   ],
   "source": [
    "# Look at classification metrics\n",
    "print(classification_report(y_val, preds_class))"
   ]
  },
  {
   "cell_type": "code",
   "execution_count": 24,
   "metadata": {},
   "outputs": [
    {
     "data": {
      "image/png": "[encoded data removed]",
      "text/plain": [
       "<Figure size 576x576 with 1 Axes>"
      ]
     },
     "metadata": {},
     "output_type": "display_data"
    }
   ],
   "source": [
    "# Plot confusion matrix\n",
    "plot_cm(y_val, preds_class)"
   ]
  },
  {
   "cell_type": "markdown",
   "metadata": {},
   "source": [
    "---\n",
    "### Make submission"
   ]
  },
  {
   "cell_type": "code",
   "execution_count": null,
   "metadata": {},
   "outputs": [],
   "source": [
    "# Fit model on all the training data, make sure to sync all params, especially epochs.\n",
    "# There would be leakage if we used any train data to validate, so no early stopping.\n",
    "\n",
    "log_dir=\"logs/fit/\" + datetime.datetime.now().strftime(\"%Y%m%d-%H%M%S\")\n",
    "tensorboard_callback = tf.keras.callbacks.TensorBoard(log_dir=log_dir, histogram_freq=1)\n",
    "\n",
    "callbacks = [#EarlyStopping(monitor='val_loss', patience=20),\n",
    "             ModelCheckpoint(filepath='best_model.h5', monitor='val_loss', save_best_only=True, verbose=1),\n",
    "             tensorboard_callback]\n",
    "\n",
    "model = get_model()\n",
    "\n",
    "model.compile(loss='binary_crossentropy',\n",
    "          optimizer=Adam(lr=0.001, beta_1=0.9, beta_2=0.999, epsilon=1e-08, decay=0.0),\n",
    "          metrics=['accuracy'])\n",
    "\n",
    "batch_size=64\n",
    "generator = gen.flow(X_train_all, np.array(y_train_all), batch_size=batch_size)\n",
    "\n",
    "model.fit_generator(generator,\n",
    "                    steps_per_epoch=batch_size,\n",
    "                    epochs=60,\n",
    "                    callbacks=callbacks,\n",
    "                    shuffle=True,\n",
    "                    verbose=1,\n",
    "                    validation_data=(X_val, y_val))"
   ]
  },
  {
   "cell_type": "code",
   "execution_count": null,
   "metadata": {},
   "outputs": [],
   "source": [
    "model = load_model('best_model.h5')"
   ]
  },
  {
   "cell_type": "code",
   "execution_count": null,
   "metadata": {},
   "outputs": [],
   "source": [
    "preds = model.predict(X_test)"
   ]
  },
  {
   "cell_type": "code",
   "execution_count": null,
   "metadata": {},
   "outputs": [],
   "source": [
    "preds[:20]"
   ]
  },
  {
   "cell_type": "code",
   "execution_count": null,
   "metadata": {},
   "outputs": [],
   "source": [
    "# Create submission file\n",
    "submission_fn = 'data_aug2.csv'\n",
    "submission = pd.DataFrame()\n",
    "submission['id']=test_df['id']\n",
    "submission['is_iceberg']=preds.reshape((preds.shape[0]))\n",
    "submission.to_csv('submissions/'+submission_fn, index=False)"
   ]
  },
  {
   "cell_type": "markdown",
   "metadata": {},
   "source": [
    "---\n",
    "### Make submission from ensemble of best k-fold validaton models"
   ]
  },
  {
   "cell_type": "code",
   "execution_count": null,
   "metadata": {},
   "outputs": [],
   "source": [
    "submission_fn = 'ensemble.csv'\n",
    "submission = pd.DataFrame()\n",
    "submission['id']=test_df['id']\n",
    "for i in range(k):\n",
    "    model = load_model('best_model_'+str(i)+'.h5')\n",
    "    preds = model.predict(X_test)\n",
    "    submission[i] = preds.reshape((preds.shape[0]))\n",
    "    "
   ]
  },
  {
   "cell_type": "code",
   "execution_count": null,
   "metadata": {},
   "outputs": [],
   "source": [
    "submission.iloc[:, 1:6]"
   ]
  },
  {
   "cell_type": "code",
   "execution_count": null,
   "metadata": {},
   "outputs": [],
   "source": [
    "submission['is_iceberg'] = submission.iloc[:, 1:6].mean(axis=1)\n",
    "submission"
   ]
  },
  {
   "cell_type": "code",
   "execution_count": null,
   "metadata": {},
   "outputs": [],
   "source": [
    "submission[['id','is_iceberg']].to_csv('submissions/'+submission_fn, index=False)"
   ]
  },
  {
   "cell_type": "code",
   "execution_count": null,
   "metadata": {},
   "outputs": [],
   "source": []
  }
 ],
 "metadata": {
  "kernelspec": {
   "display_name": "Python [conda env:adpy] *",
   "language": "python",
   "name": "conda-env-adpy-py"
  },
  "language_info": {
   "codemirror_mode": {
    "name": "ipython",
    "version": 3
   },
   "file_extension": ".py",
   "mimetype": "text/x-python",
   "name": "python",
   "nbconvert_exporter": "python",
   "pygments_lexer": "ipython3",
   "version": "3.7.4"
  }
 },
 "nbformat": 4,
 "nbformat_minor": 4
}
